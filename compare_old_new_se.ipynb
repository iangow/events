{
 "cells": [
  {
   "cell_type": "code",
   "execution_count": 1,
   "metadata": {
    "collapsed": true
   },
   "outputs": [],
   "source": [
    "import pandas as pd\n",
    "from sqlalchemy import create_engine\n",
    "import difflib\n",
    "from difflib import ndiff, unified_diff\n",
    "from nltk import sent_tokenize\n",
    "import re"
   ]
  },
  {
   "cell_type": "markdown",
   "metadata": {},
   "source": [
    "#### Step 1: Read data from db, do simple checks and generate a file to save the suspicious content."
   ]
  },
  {
   "cell_type": "code",
   "execution_count": null,
   "metadata": {
    "collapsed": true
   },
   "outputs": [],
   "source": [
    "def clean_text(text):\n",
    "    # Eliminate markup from speaker text\n",
    "    text = re.sub(r\"]]></Body>\", \"\", text)\n",
    "\n",
    "    # rm \\xef from speaker text\n",
    "    #text = re.sub(r\"\\xef\", \"\", text)\n",
    "    #text = re.sub(r\"\\xc3\", \"\", text)\n",
    "\n",
    "    # Convert newlines to spaces\n",
    "    text = re.sub(r\"\\n\", \" \", text)\n",
    "\n",
    "    # Eliminate multiple spaces (perhaps created by previous step)\n",
    "    text = re.sub(r\"\\s{2,}\", \" \", text)\n",
    "    return text.strip()\n",
    "\n",
    "engine = create_engine(\"postgresql://aaz.chicagobooth.edu/postgres\")\n",
    "\n",
    "for round in range(10):\n",
    "    df = pd.read_sql_query(\"SELECT * FROM speaker_data_merged_zjy ORDER BY RANDOM() LIMIT 100000\", con=engine)\n",
    "\n",
    "    df[\"speaker_text.y.clean\"] = df[\"speaker_text.x\"].map(clean_text)\n",
    "    df[\"speaker_text.x.clean\"] = df[\"speaker_text.y\"].map(clean_text)\n",
    "\n",
    "    tmp = []\n",
    "    fname = '/home/zjy/result_' + str(round) + '.txt'\n",
    "    f = open(fname, \"a\")\n",
    "\n",
    "    for i in range(len(df)):\n",
    "        sents_x = sent_tokenize(df[\"speaker_text.y.clean\"][i])\n",
    "        sents_y = sent_tokenize(df[\"speaker_text.x.clean\"][i])\n",
    "        if sents_x == sents_y:\n",
    "            continue\n",
    "\n",
    "        for diff in unified_diff(sents_x, sents_y):\n",
    "            if diff and type(diff) == unicode:\n",
    "                if diff.startswith(\"+\") or diff.startswith(\"-\"):\n",
    "                    #print i\n",
    "                    tmpdiff = diff.split()\n",
    "                    tmpdiff = ' '.join(tmpdiff)\n",
    "                    f.write(tmpdiff.encode('utf-8'))\n",
    "                    # f.read().decode('utf8')\n",
    "    \n",
    "    f.close()\n",
    "\n",
    "    print 'End of round', round\n"
   ]
  },
  {
   "cell_type": "markdown",
   "metadata": {},
   "source": [
    "#### Step 2: Double check the result file and report difference. "
   ]
  },
  {
   "cell_type": "code",
   "execution_count": 79,
   "metadata": {},
   "outputs": [
    {
     "name": "stdout",
     "output_type": "stream",
     "text": [
      "No difference. Empty file: /home/zjy/git/compare_result/result_3.txt\n",
      "No difference: /home/zjy/git/compare_result/result_5.txt\n",
      "No difference: /home/zjy/git/compare_result/result_8.txt\n",
      "No difference: /home/zjy/git/compare_result/result_9.txt\n",
      "No difference. Empty file: /home/zjy/git/compare_result/result_0.txt\n",
      "No difference. Empty file: /home/zjy/git/compare_result/result_4.txt\n",
      "No difference: /home/zjy/git/compare_result/result_2.txt\n",
      "No difference. Empty file: /home/zjy/git/compare_result/result_6.txt\n",
      "No difference. Empty file: /home/zjy/git/compare_result/result_7.txt\n",
      "No difference. Empty file: /home/zjy/git/compare_result/result_1.txt\n"
     ]
    }
   ],
   "source": [
    "from os import listdir\n",
    "fpath = '/home/zjy/git/compare_result/'\n",
    "for fname in listdir(fpath):\n",
    "    fname = fpath + fname\n",
    "    flg = 0\n",
    "    \n",
    "    # read file\n",
    "    f = open(fname, 'r')\n",
    "    content = f.read().decode('utf-8')\n",
    "    f.close()\n",
    "    \n",
    "    if len(content) == 0:\n",
    "        print 'No difference. Empty file:', fname\n",
    "        continue\n",
    "        \n",
    "    tmp_content = re.split('\\.\\-|\\.\\+|\\?\\-|\\?\\+', content)\n",
    "\n",
    "    # rm the first +/- sign\n",
    "    tmp_content[0] = tmp_content[0][1:]\n",
    "    # rm the last sign\n",
    "    tmp_content[-1] = tmp_content[-1][:len(tmp_content[-1])-1]\n",
    "\n",
    "    if len(tmp_content) % 2 != 0:\n",
    "        flg = 1\n",
    "        print 'Error: odd sentences in file', fname\n",
    "        print tmp_content\n",
    "\n",
    "    n = len(tmp_content) / 2\n",
    "    for i in range(n):\n",
    "        if tmp_content[i * 2] != tmp_content[i * 2 + 1]:\n",
    "            flg = 1\n",
    "            print 'Attn: difference detected in file', fname\n",
    "            print tmp_content[i * 2]\n",
    "            print tmp_content[i * 2 + 1]\n",
    "    if flg == 0:\n",
    "        print 'No difference:', fname\n"
   ]
  },
  {
   "cell_type": "code",
   "execution_count": null,
   "metadata": {},
   "outputs": [],
   "source": []
  }
 ],
 "metadata": {
  "kernelspec": {
   "display_name": "Python 2",
   "language": "python",
   "name": "python2"
  },
  "language_info": {
   "codemirror_mode": {
    "name": "ipython",
    "version": 2
   },
   "file_extension": ".py",
   "mimetype": "text/x-python",
   "name": "python",
   "nbconvert_exporter": "python",
   "pygments_lexer": "ipython2",
   "version": "2.7.12"
  }
 },
 "nbformat": 4,
 "nbformat_minor": 2
}
