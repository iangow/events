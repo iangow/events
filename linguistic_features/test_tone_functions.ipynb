{
 "cells": [
  {
   "cell_type": "code",
   "execution_count": null,
   "metadata": {
    "collapsed": true
   },
   "outputs": [],
   "source": [
    "from tone_functions import categories, get_tone_data\n",
    "from numerical_intensity import num_count"
   ]
  },
  {
   "cell_type": "code",
   "execution_count": null,
   "metadata": {},
   "outputs": [],
   "source": [
    "from sqlalchemy import create_engine\n",
    "from pandas import read_sql\n",
    "import os\n",
    "\n",
    "host = os.getenv('PGHOST', \"localhost\")\n",
    "dbname = os.getenv('PGDATABASE', \"postgres\")\n",
    "\n",
    "conn_string = 'postgresql://' + host + '/' + dbname\n",
    "engine = create_engine(conn_string)\n",
    "\n",
    "speaker_data = read_sql(\"SELECT * FROM streetevents.speaker_data WHERE file_name = '5189334_T'\", engine)"
   ]
  },
  {
   "cell_type": "code",
   "execution_count": null,
   "metadata": {
    "collapsed": true
   },
   "outputs": [],
   "source": [
    "for cat in categories:\n",
    "    speaker_data[cat] = speaker_data['speaker_text'].map(lambda x: get_tone_data(x, cat))\n",
    "    \n",
    "speaker_data['num_count'] = speaker_data['speaker_text'].map(num_count)"
   ]
  },
  {
   "cell_type": "code",
   "execution_count": null,
   "metadata": {},
   "outputs": [],
   "source": [
    "speaker_data"
   ]
  }
 ],
 "metadata": {
  "kernelspec": {
   "display_name": "Python 3",
   "language": "python",
   "name": "python3"
  },
  "language_info": {
   "codemirror_mode": {
    "name": "ipython",
    "version": 3
   },
   "file_extension": ".py",
   "mimetype": "text/x-python",
   "name": "python",
   "nbconvert_exporter": "python",
   "pygments_lexer": "ipython3",
   "version": "3.5.3"
  }
 },
 "nbformat": 4,
 "nbformat_minor": 2
}
